{
  "nbformat": 4,
  "nbformat_minor": 0,
  "metadata": {
    "colab": {
      "name": "Kaggle_StudentGradesPrediction.ipynb",
      "provenance": [],
      "collapsed_sections": []
    },
    "kernelspec": {
      "display_name": "Python 3",
      "name": "python3"
    },
    "accelerator": "GPU"
  },
  "cells": [
    {
      "cell_type": "markdown",
      "metadata": {
        "id": "7XJzfPB4ORYg"
      },
      "source": [
        "# Student Grades Prediction dataset taken from Kaggle\r\n"
      ]
    },
    {
      "cell_type": "code",
      "metadata": {
        "id": "OBBIvy5AAmOS"
      },
      "source": [
        "# importing libraries\r\n",
        "import pandas as pd\r\n",
        "import matplotlib.pyplot as plt\r\n",
        "import seaborn as sns\r\n",
        "import numpy as np\r\n",
        "import random\r\n",
        "%matplotlib inline"
      ],
      "execution_count": 1,
      "outputs": []
    },
    {
      "cell_type": "code",
      "metadata": {
        "id": "QPmbVRk-A566"
      },
      "source": [
        "# Reading data\r\n",
        "df = pd.read_csv('/content/drive/MyDrive/DataScience/Dataset/KAGGLE/StudentGrades/results.csv')"
      ],
      "execution_count": 2,
      "outputs": []
    },
    {
      "cell_type": "code",
      "metadata": {
        "colab": {
          "base_uri": "https://localhost:8080/",
          "height": 204
        },
        "id": "4FDtKJx6BBzx",
        "outputId": "e74f3609-e9c4-400e-a552-41a3fca2764d"
      },
      "source": [
        "df.head()"
      ],
      "execution_count": 3,
      "outputs": [
        {
          "output_type": "execute_result",
          "data": {
            "text/html": [
              "<div>\n",
              "<style scoped>\n",
              "    .dataframe tbody tr th:only-of-type {\n",
              "        vertical-align: middle;\n",
              "    }\n",
              "\n",
              "    .dataframe tbody tr th {\n",
              "        vertical-align: top;\n",
              "    }\n",
              "\n",
              "    .dataframe thead th {\n",
              "        text-align: right;\n",
              "    }\n",
              "</style>\n",
              "<table border=\"1\" class=\"dataframe\">\n",
              "  <thead>\n",
              "    <tr style=\"text-align: right;\">\n",
              "      <th></th>\n",
              "      <th>Unnamed: 0</th>\n",
              "      <th>Hindi</th>\n",
              "      <th>English</th>\n",
              "      <th>Science</th>\n",
              "      <th>Maths</th>\n",
              "      <th>History</th>\n",
              "      <th>Geograpgy</th>\n",
              "      <th>Total</th>\n",
              "      <th>Results</th>\n",
              "      <th>Div</th>\n",
              "    </tr>\n",
              "  </thead>\n",
              "  <tbody>\n",
              "    <tr>\n",
              "      <th>0</th>\n",
              "      <td>0</td>\n",
              "      <td>65</td>\n",
              "      <td>10</td>\n",
              "      <td>59</td>\n",
              "      <td>3</td>\n",
              "      <td>71</td>\n",
              "      <td>37</td>\n",
              "      <td>245</td>\n",
              "      <td>0</td>\n",
              "      <td>3</td>\n",
              "    </tr>\n",
              "    <tr>\n",
              "      <th>1</th>\n",
              "      <td>1</td>\n",
              "      <td>94</td>\n",
              "      <td>56</td>\n",
              "      <td>4</td>\n",
              "      <td>67</td>\n",
              "      <td>91</td>\n",
              "      <td>50</td>\n",
              "      <td>362</td>\n",
              "      <td>1</td>\n",
              "      <td>1</td>\n",
              "    </tr>\n",
              "    <tr>\n",
              "      <th>2</th>\n",
              "      <td>2</td>\n",
              "      <td>7</td>\n",
              "      <td>85</td>\n",
              "      <td>76</td>\n",
              "      <td>99</td>\n",
              "      <td>60</td>\n",
              "      <td>25</td>\n",
              "      <td>352</td>\n",
              "      <td>0</td>\n",
              "      <td>2</td>\n",
              "    </tr>\n",
              "    <tr>\n",
              "      <th>3</th>\n",
              "      <td>3</td>\n",
              "      <td>88</td>\n",
              "      <td>46</td>\n",
              "      <td>59</td>\n",
              "      <td>94</td>\n",
              "      <td>52</td>\n",
              "      <td>38</td>\n",
              "      <td>377</td>\n",
              "      <td>1</td>\n",
              "      <td>1</td>\n",
              "    </tr>\n",
              "    <tr>\n",
              "      <th>4</th>\n",
              "      <td>4</td>\n",
              "      <td>39</td>\n",
              "      <td>81</td>\n",
              "      <td>37</td>\n",
              "      <td>38</td>\n",
              "      <td>6</td>\n",
              "      <td>54</td>\n",
              "      <td>255</td>\n",
              "      <td>1</td>\n",
              "      <td>3</td>\n",
              "    </tr>\n",
              "  </tbody>\n",
              "</table>\n",
              "</div>"
            ],
            "text/plain": [
              "   Unnamed: 0  Hindi  English  Science  ...  Geograpgy  Total  Results  Div\n",
              "0           0     65       10       59  ...         37    245        0    3\n",
              "1           1     94       56        4  ...         50    362        1    1\n",
              "2           2      7       85       76  ...         25    352        0    2\n",
              "3           3     88       46       59  ...         38    377        1    1\n",
              "4           4     39       81       37  ...         54    255        1    3\n",
              "\n",
              "[5 rows x 10 columns]"
            ]
          },
          "metadata": {
            "tags": []
          },
          "execution_count": 3
        }
      ]
    },
    {
      "cell_type": "code",
      "metadata": {
        "colab": {
          "base_uri": "https://localhost:8080/"
        },
        "id": "xFUM1t_WIsJQ",
        "outputId": "656bdc6b-11bc-490a-8d5d-1e87dff5c69a"
      },
      "source": [
        "# Shape of dataset\r\n",
        "print(f'Rows:{df.shape[0]}', f'Columns:{df.shape[1]}')"
      ],
      "execution_count": 4,
      "outputs": [
        {
          "output_type": "stream",
          "text": [
            "Rows:1000 Columns:10\n"
          ],
          "name": "stdout"
        }
      ]
    },
    {
      "cell_type": "code",
      "metadata": {
        "id": "QMWu9Mo6Iwjo"
      },
      "source": [
        "# Removing first irrelevant column\r\n",
        "df.drop(['Unnamed: 0'], axis=1, inplace=True)"
      ],
      "execution_count": 5,
      "outputs": []
    },
    {
      "cell_type": "code",
      "metadata": {
        "id": "nmNwfQhNmBKT"
      },
      "source": [
        "# Now the last column in Division, which is of no use. It won't give any insights as comapred to others. Hence dropping it too.\r\n",
        "df.drop(['Div'], axis=1, inplace=True)"
      ],
      "execution_count": 6,
      "outputs": []
    },
    {
      "cell_type": "markdown",
      "metadata": {
        "id": "KTQA7FWxnKgq"
      },
      "source": [
        "# EDA"
      ]
    },
    {
      "cell_type": "code",
      "metadata": {
        "colab": {
          "base_uri": "https://localhost:8080/"
        },
        "id": "qO58W5aznBjt",
        "outputId": "1cc01aea-5367-438b-bd6f-b6d2fd24c6a0"
      },
      "source": [
        "df.info()"
      ],
      "execution_count": 7,
      "outputs": [
        {
          "output_type": "stream",
          "text": [
            "<class 'pandas.core.frame.DataFrame'>\n",
            "RangeIndex: 1000 entries, 0 to 999\n",
            "Data columns (total 8 columns):\n",
            " #   Column     Non-Null Count  Dtype\n",
            "---  ------     --------------  -----\n",
            " 0   Hindi      1000 non-null   int64\n",
            " 1   English    1000 non-null   int64\n",
            " 2   Science    1000 non-null   int64\n",
            " 3   Maths      1000 non-null   int64\n",
            " 4   History    1000 non-null   int64\n",
            " 5   Geograpgy  1000 non-null   int64\n",
            " 6   Total      1000 non-null   int64\n",
            " 7   Results    1000 non-null   int64\n",
            "dtypes: int64(8)\n",
            "memory usage: 62.6 KB\n"
          ],
          "name": "stdout"
        }
      ]
    },
    {
      "cell_type": "code",
      "metadata": {
        "colab": {
          "base_uri": "https://localhost:8080/",
          "height": 297
        },
        "id": "VRO7YkYknMmo",
        "outputId": "3133cf49-3ccf-432b-c52e-e36b0ff3f8a3"
      },
      "source": [
        "df.describe()"
      ],
      "execution_count": 8,
      "outputs": [
        {
          "output_type": "execute_result",
          "data": {
            "text/html": [
              "<div>\n",
              "<style scoped>\n",
              "    .dataframe tbody tr th:only-of-type {\n",
              "        vertical-align: middle;\n",
              "    }\n",
              "\n",
              "    .dataframe tbody tr th {\n",
              "        vertical-align: top;\n",
              "    }\n",
              "\n",
              "    .dataframe thead th {\n",
              "        text-align: right;\n",
              "    }\n",
              "</style>\n",
              "<table border=\"1\" class=\"dataframe\">\n",
              "  <thead>\n",
              "    <tr style=\"text-align: right;\">\n",
              "      <th></th>\n",
              "      <th>Hindi</th>\n",
              "      <th>English</th>\n",
              "      <th>Science</th>\n",
              "      <th>Maths</th>\n",
              "      <th>History</th>\n",
              "      <th>Geograpgy</th>\n",
              "      <th>Total</th>\n",
              "      <th>Results</th>\n",
              "    </tr>\n",
              "  </thead>\n",
              "  <tbody>\n",
              "    <tr>\n",
              "      <th>count</th>\n",
              "      <td>1000.000000</td>\n",
              "      <td>1000.000000</td>\n",
              "      <td>1000.000000</td>\n",
              "      <td>1000.000000</td>\n",
              "      <td>1000.00000</td>\n",
              "      <td>1000.000000</td>\n",
              "      <td>1000.000000</td>\n",
              "      <td>1000.000000</td>\n",
              "    </tr>\n",
              "    <tr>\n",
              "      <th>mean</th>\n",
              "      <td>51.645000</td>\n",
              "      <td>50.110000</td>\n",
              "      <td>49.440000</td>\n",
              "      <td>49.553000</td>\n",
              "      <td>49.03400</td>\n",
              "      <td>50.028000</td>\n",
              "      <td>299.810000</td>\n",
              "      <td>0.350000</td>\n",
              "    </tr>\n",
              "    <tr>\n",
              "      <th>std</th>\n",
              "      <td>29.471912</td>\n",
              "      <td>28.048505</td>\n",
              "      <td>28.921114</td>\n",
              "      <td>28.632447</td>\n",
              "      <td>28.76975</td>\n",
              "      <td>28.710268</td>\n",
              "      <td>71.865239</td>\n",
              "      <td>0.477208</td>\n",
              "    </tr>\n",
              "    <tr>\n",
              "      <th>min</th>\n",
              "      <td>0.000000</td>\n",
              "      <td>0.000000</td>\n",
              "      <td>0.000000</td>\n",
              "      <td>0.000000</td>\n",
              "      <td>0.00000</td>\n",
              "      <td>0.000000</td>\n",
              "      <td>103.000000</td>\n",
              "      <td>0.000000</td>\n",
              "    </tr>\n",
              "    <tr>\n",
              "      <th>25%</th>\n",
              "      <td>26.000000</td>\n",
              "      <td>26.000000</td>\n",
              "      <td>25.000000</td>\n",
              "      <td>25.750000</td>\n",
              "      <td>24.00000</td>\n",
              "      <td>26.000000</td>\n",
              "      <td>254.000000</td>\n",
              "      <td>0.000000</td>\n",
              "    </tr>\n",
              "    <tr>\n",
              "      <th>50%</th>\n",
              "      <td>53.000000</td>\n",
              "      <td>50.500000</td>\n",
              "      <td>50.000000</td>\n",
              "      <td>49.000000</td>\n",
              "      <td>49.00000</td>\n",
              "      <td>49.000000</td>\n",
              "      <td>296.000000</td>\n",
              "      <td>0.000000</td>\n",
              "    </tr>\n",
              "    <tr>\n",
              "      <th>75%</th>\n",
              "      <td>77.000000</td>\n",
              "      <td>75.000000</td>\n",
              "      <td>73.250000</td>\n",
              "      <td>74.000000</td>\n",
              "      <td>73.25000</td>\n",
              "      <td>75.000000</td>\n",
              "      <td>349.250000</td>\n",
              "      <td>1.000000</td>\n",
              "    </tr>\n",
              "    <tr>\n",
              "      <th>max</th>\n",
              "      <td>99.000000</td>\n",
              "      <td>99.000000</td>\n",
              "      <td>99.000000</td>\n",
              "      <td>99.000000</td>\n",
              "      <td>99.00000</td>\n",
              "      <td>99.000000</td>\n",
              "      <td>505.000000</td>\n",
              "      <td>1.000000</td>\n",
              "    </tr>\n",
              "  </tbody>\n",
              "</table>\n",
              "</div>"
            ],
            "text/plain": [
              "             Hindi      English  ...        Total      Results\n",
              "count  1000.000000  1000.000000  ...  1000.000000  1000.000000\n",
              "mean     51.645000    50.110000  ...   299.810000     0.350000\n",
              "std      29.471912    28.048505  ...    71.865239     0.477208\n",
              "min       0.000000     0.000000  ...   103.000000     0.000000\n",
              "25%      26.000000    26.000000  ...   254.000000     0.000000\n",
              "50%      53.000000    50.500000  ...   296.000000     0.000000\n",
              "75%      77.000000    75.000000  ...   349.250000     1.000000\n",
              "max      99.000000    99.000000  ...   505.000000     1.000000\n",
              "\n",
              "[8 rows x 8 columns]"
            ]
          },
          "metadata": {
            "tags": []
          },
          "execution_count": 8
        }
      ]
    },
    {
      "cell_type": "code",
      "metadata": {
        "colab": {
          "base_uri": "https://localhost:8080/"
        },
        "id": "Xgfe-0ZunPYa",
        "outputId": "22d82300-80d6-4b82-9d32-3702ce718890"
      },
      "source": [
        "df.isna().sum()"
      ],
      "execution_count": 9,
      "outputs": [
        {
          "output_type": "execute_result",
          "data": {
            "text/plain": [
              "Hindi        0\n",
              "English      0\n",
              "Science      0\n",
              "Maths        0\n",
              "History      0\n",
              "Geograpgy    0\n",
              "Total        0\n",
              "Results      0\n",
              "dtype: int64"
            ]
          },
          "metadata": {
            "tags": []
          },
          "execution_count": 9
        }
      ]
    },
    {
      "cell_type": "code",
      "metadata": {
        "colab": {
          "base_uri": "https://localhost:8080/"
        },
        "id": "LP-SPOhqsah2",
        "outputId": "6e9f4745-fa52-40d7-ef37-edcc86cea03d"
      },
      "source": [
        "df.Results.value_counts()"
      ],
      "execution_count": 10,
      "outputs": [
        {
          "output_type": "execute_result",
          "data": {
            "text/plain": [
              "0    650\n",
              "1    350\n",
              "Name: Results, dtype: int64"
            ]
          },
          "metadata": {
            "tags": []
          },
          "execution_count": 10
        }
      ]
    },
    {
      "cell_type": "markdown",
      "metadata": {
        "id": "_eGzeP5Vtked"
      },
      "source": [
        "## Defining the variables"
      ]
    },
    {
      "cell_type": "code",
      "metadata": {
        "id": "P_61uGlTsvVF"
      },
      "source": [
        "X = df.drop(['Results'], axis=1)        # Independant Variable / Features\r\n",
        "y = df['Results']                       # Dependant Variable / Target"
      ],
      "execution_count": 11,
      "outputs": []
    },
    {
      "cell_type": "markdown",
      "metadata": {
        "id": "Iy9Es2Uwt4X1"
      },
      "source": [
        "## Getting important features"
      ]
    },
    {
      "cell_type": "code",
      "metadata": {
        "colab": {
          "base_uri": "https://localhost:8080/"
        },
        "id": "jrF-_gSgtw9J",
        "outputId": "a3213904-1a51-4bea-8ecf-1f7f70ed3476"
      },
      "source": [
        "from sklearn.ensemble import ExtraTreesRegressor\r\n",
        "\r\n",
        "model = ExtraTreesRegressor()\r\n",
        "model.fit(X, y)"
      ],
      "execution_count": 12,
      "outputs": [
        {
          "output_type": "execute_result",
          "data": {
            "text/plain": [
              "ExtraTreesRegressor(bootstrap=False, ccp_alpha=0.0, criterion='mse',\n",
              "                    max_depth=None, max_features='auto', max_leaf_nodes=None,\n",
              "                    max_samples=None, min_impurity_decrease=0.0,\n",
              "                    min_impurity_split=None, min_samples_leaf=1,\n",
              "                    min_samples_split=2, min_weight_fraction_leaf=0.0,\n",
              "                    n_estimators=100, n_jobs=None, oob_score=False,\n",
              "                    random_state=None, verbose=0, warm_start=False)"
            ]
          },
          "metadata": {
            "tags": []
          },
          "execution_count": 12
        }
      ]
    },
    {
      "cell_type": "code",
      "metadata": {
        "colab": {
          "base_uri": "https://localhost:8080/"
        },
        "id": "GxCVY04Oty5G",
        "outputId": "3102869c-45d4-4616-dbbd-c455a952d7fb"
      },
      "source": [
        "model.feature_importances_"
      ],
      "execution_count": 13,
      "outputs": [
        {
          "output_type": "execute_result",
          "data": {
            "text/plain": [
              "array([0.10289563, 0.10437479, 0.10729744, 0.10698713, 0.11149982,\n",
              "       0.09570456, 0.37124063])"
            ]
          },
          "metadata": {
            "tags": []
          },
          "execution_count": 13
        }
      ]
    },
    {
      "cell_type": "markdown",
      "metadata": {
        "id": "srSCuhVQt_VS"
      },
      "source": [
        "## Visualizing Important Features"
      ]
    },
    {
      "cell_type": "code",
      "metadata": {
        "colab": {
          "base_uri": "https://localhost:8080/",
          "height": 483
        },
        "id": "uz3FEYB4t8wP",
        "outputId": "23594ccd-7143-483b-8755-bd7067899036"
      },
      "source": [
        "plt.figure(figsize=(12,8))\r\n",
        "impft = pd.Series(model.feature_importances_, index=X.columns)\r\n",
        "impft.nlargest(20).plot(kind='barh')\r\n",
        "plt.show()"
      ],
      "execution_count": 14,
      "outputs": [
        {
          "output_type": "display_data",
          "data": {
            "image/png": "[encoded data removed]",
            "text/plain": [
              "<Figure size 864x576 with 1 Axes>"
            ]
          },
          "metadata": {
            "tags": [],
            "needs_background": "light"
          }
        }
      ]
    },
    {
      "cell_type": "markdown",
      "metadata": {
        "id": "F8ycMqLavgv8"
      },
      "source": [
        "### As all the columns are numerical type, we don't need to do any OneHotEncoding or LabelEncoding"
      ]
    },
    {
      "cell_type": "markdown",
      "metadata": {
        "id": "WVu8LJfYwAJR"
      },
      "source": [
        "### Standard Scaling"
      ]
    },
    {
      "cell_type": "code",
      "metadata": {
        "id": "bCsouiiYuE_9"
      },
      "source": [
        "from sklearn.preprocessing import StandardScaler\r\n",
        "sc = StandardScaler()\r\n",
        "\r\n",
        "cols_to_scale = ['Hindi', 'English', 'Science', 'Maths', 'History', 'Geograpgy', 'Total']\r\n",
        "df[cols_to_scale] = sc.fit_transform(df[cols_to_scale])"
      ],
      "execution_count": 15,
      "outputs": []
    },
    {
      "cell_type": "code",
      "metadata": {
        "colab": {
          "base_uri": "https://localhost:8080/",
          "height": 504
        },
        "id": "82OyG6tRwZib",
        "outputId": "37165e5c-f32a-45ca-c438-289085e8cd79"
      },
      "source": [
        "# Visualizing the correlation between the features\r\n",
        "\r\n",
        "plt.figure(figsize=(10, 8))\r\n",
        "sns.heatmap(df.corr(), annot=True, cmap='Reds')"
      ],
      "execution_count": 16,
      "outputs": [
        {
          "output_type": "execute_result",
          "data": {
            "text/plain": [
              "<matplotlib.axes._subplots.AxesSubplot at 0x7fbedfd7ff28>"
            ]
          },
          "metadata": {
            "tags": []
          },
          "execution_count": 16
        },
        {
          "output_type": "display_data",
          "data": {
            "image/png": "[encoded data removed]",
            "text/plain": [
              "<Figure size 720x576 with 2 Axes>"
            ]
          },
          "metadata": {
            "tags": [],
            "needs_background": "light"
          }
        }
      ]
    },
    {
      "cell_type": "markdown",
      "metadata": {
        "id": "YS0Jas42yE9r"
      },
      "source": [
        "# **BUILDING MODEL**"
      ]
    },
    {
      "cell_type": "code",
      "metadata": {
        "id": "jZobuqx8wcUK"
      },
      "source": [
        "# Dividing the data into train and test\r\n",
        "from sklearn.model_selection import train_test_split\r\n",
        "\r\n",
        "X_train, X_test, y_train, y_test = train_test_split(X, y, test_size = 0.20, random_state = 42)      # 80% train data, 20% test data"
      ],
      "execution_count": 17,
      "outputs": []
    },
    {
      "cell_type": "markdown",
      "metadata": {
        "id": "B274qr57yv6Y"
      },
      "source": [
        "## **LOGISTIC REGRESSION**\r\n",
        "---"
      ]
    },
    {
      "cell_type": "code",
      "metadata": {
        "id": "_KnVXNhTwwMv"
      },
      "source": [
        "from sklearn.model_selection import GridSearchCV"
      ],
      "execution_count": 18,
      "outputs": []
    },
    {
      "cell_type": "code",
      "metadata": {
        "id": "OH9s4nMgWfF9"
      },
      "source": [
        "from sklearn.linear_model import LogisticRegression\r\n",
        "\r\n",
        "log = LogisticRegression(random_state=42)\r\n",
        "\r\n",
        "penalty = ['l1', 'l2', 'elasticnet', 'none']\r\n",
        "class_weight = [None, 'balanced']\r\n",
        "solver = ['newton-cg', 'lbfgs', 'liblinear', 'sag', 'saga']\r\n",
        "max_iter = np.arange(100, 500, 100)\r\n",
        "C = [100, 10, 1.0, 0.1, 0.01]\r\n",
        "multi_class = ['auto', 'ovr', 'multinomial']\r\n",
        "\r\n",
        "log_params = dict(penalty = penalty,\r\n",
        "                  class_weight = class_weight,\r\n",
        "                  solver = solver,\r\n",
        "                  max_iter = max_iter,\r\n",
        "                  C = C,\r\n",
        "                  multi_class = multi_class)"
      ],
      "execution_count": 19,
      "outputs": []
    },
    {
      "cell_type": "markdown",
      "metadata": {
        "id": "cBwP945Uad_P"
      },
      "source": [
        "### *Finding the best params*"
      ]
    },
    {
      "cell_type": "code",
      "metadata": {
        "colab": {
          "base_uri": "https://localhost:8080/"
        },
        "id": "rYhgLCHwat8O",
        "outputId": "63cb101c-d685-4d74-eb3e-d7867ee7876b"
      },
      "source": [
        "mod_gs_log = GridSearchCV(estimator=log, param_grid=log_params, verbose=1, n_jobs=-1, cv=3)\r\n",
        "mod_gs_log.fit(X_train, y_train)\r\n",
        "bp_log = mod_gs_log.best_params_\r\n",
        "bp_log"
      ],
      "execution_count": 21,
      "outputs": [
        {
          "output_type": "stream",
          "text": [
            "Fitting 3 folds for each of 2400 candidates, totalling 7200 fits\n"
          ],
          "name": "stdout"
        },
        {
          "output_type": "stream",
          "text": [
            "[Parallel(n_jobs=-1)]: Using backend LokyBackend with 2 concurrent workers.\n",
            "[Parallel(n_jobs=-1)]: Done 584 tasks      | elapsed:    6.0s\n",
            "[Parallel(n_jobs=-1)]: Done 3848 tasks      | elapsed:   41.5s\n",
            "[Parallel(n_jobs=-1)]: Done 5848 tasks      | elapsed:  1.1min\n",
            "[Parallel(n_jobs=-1)]: Done 7200 out of 7200 | elapsed:  1.3min finished\n"
          ],
          "name": "stderr"
        },
        {
          "output_type": "execute_result",
          "data": {
            "text/plain": [
              "{'C': 1.0,\n",
              " 'class_weight': None,\n",
              " 'max_iter': 100,\n",
              " 'multi_class': 'auto',\n",
              " 'penalty': 'l2',\n",
              " 'solver': 'liblinear'}"
            ]
          },
          "metadata": {
            "tags": []
          },
          "execution_count": 21
        }
      ]
    },
    {
      "cell_type": "markdown",
      "metadata": {
        "id": "ychCuEpBbaIf"
      },
      "source": [
        "### *Training with best parameters*"
      ]
    },
    {
      "cell_type": "code",
      "metadata": {
        "colab": {
          "base_uri": "https://localhost:8080/"
        },
        "id": "M-voHjTbyM9O",
        "outputId": "2d198f7f-abf1-4c53-fa39-a44d3853e031"
      },
      "source": [
        "mod_log = LogisticRegression(C=bp_log['C'], class_weight=bp_log['class_weight'], max_iter=bp_log['max_iter'], multi_class=bp_log['multi_class'], \r\n",
        "                             penalty=bp_log['penalty'], solver=bp_log['solver'])\r\n",
        "mod_log.fit(X_train, y_train)"
      ],
      "execution_count": 22,
      "outputs": [
        {
          "output_type": "execute_result",
          "data": {
            "text/plain": [
              "LogisticRegression(C=1.0, class_weight=None, dual=False, fit_intercept=True,\n",
              "                   intercept_scaling=1, l1_ratio=None, max_iter=100,\n",
              "                   multi_class='auto', n_jobs=None, penalty='l2',\n",
              "                   random_state=None, solver='liblinear', tol=0.0001, verbose=0,\n",
              "                   warm_start=False)"
            ]
          },
          "metadata": {
            "tags": []
          },
          "execution_count": 22
        }
      ]
    },
    {
      "cell_type": "code",
      "metadata": {
        "id": "zL7MPO0n2lO_"
      },
      "source": [
        "ypred_log = mod_log.predict(X_test)"
      ],
      "execution_count": 23,
      "outputs": []
    },
    {
      "cell_type": "code",
      "metadata": {
        "id": "zscYxIq21I5m"
      },
      "source": [
        "# import metric libraries\r\n",
        "from sklearn.metrics import mean_squared_error as mse\r\n",
        "from math import sqrt as r"
      ],
      "execution_count": 24,
      "outputs": []
    },
    {
      "cell_type": "code",
      "metadata": {
        "colab": {
          "base_uri": "https://localhost:8080/"
        },
        "id": "K5ZoLpMH2WXq",
        "outputId": "e6f0c88b-6546-4cc2-845d-9f3a3f70d406"
      },
      "source": [
        "# Metrics for Logistic Regression\r\n",
        "\r\n",
        "rmse_log = r(mse(y_test, ypred_log))\r\n",
        "print('RMSE Log:', rmse_log)"
      ],
      "execution_count": 25,
      "outputs": [
        {
          "output_type": "stream",
          "text": [
            "RMSE Log: 0.469041575982343\n"
          ],
          "name": "stdout"
        }
      ]
    },
    {
      "cell_type": "markdown",
      "metadata": {
        "id": "6VwCuFB6e5v_"
      },
      "source": [
        "## **SGD CLASSIFIER**\r\n",
        "---\r\n",
        "\r\n"
      ]
    },
    {
      "cell_type": "code",
      "metadata": {
        "id": "FqkYCmaBtofM"
      },
      "source": [
        "from sklearn.linear_model import SGDClassifier\r\n",
        "\r\n",
        "sgd = SGDClassifier(random_state=42)\r\n",
        "\r\n",
        "loss = ['hinge', 'log', 'modified_huber', 'squared_hinge', 'perceptron']\r\n",
        "penalty = ['l1', 'l2', 'elasticnet']\r\n",
        "alpha = [0.001, 0.01, 0.1, 1, 10, 100]\r\n",
        "learning_rate = ['constant', 'optimal', 'invscaling', 'adaptive']\r\n",
        "# class_weight = [{1:0.5, 0:0.5}, {1:0.4, 0:0.6}, {1:0.6, 0:0.4}, {1:0.7, 0:0.3}]\r\n",
        "eta0 = [1, 10, 100]\r\n",
        "max_iter = np.arange(200, 1000, 200)\r\n",
        "\r\n",
        "sgd_params = dict(loss = loss,\r\n",
        "                  penalty = penalty,\r\n",
        "                  alpha = alpha,\r\n",
        "                  learning_rate = learning_rate, \r\n",
        "                  class_weight = class_weight, \r\n",
        "                  eta0 = eta0,\r\n",
        "                  max_iter = max_iter)"
      ],
      "execution_count": 27,
      "outputs": []
    },
    {
      "cell_type": "markdown",
      "metadata": {
        "id": "lzLrQQVX8fAr"
      },
      "source": [
        "### *Finding the best params*"
      ]
    },
    {
      "cell_type": "code",
      "metadata": {
        "colab": {
          "base_uri": "https://localhost:8080/"
        },
        "id": "QjSESlhGw0Dc",
        "outputId": "6ecb26d3-56e5-404c-92ec-29fa5dc52b30"
      },
      "source": [
        "mod_gs_sgd = GridSearchCV(estimator=sgd, param_grid=sgd_params, verbose=1, n_jobs=-1, cv=3)\r\n",
        "mod_gs_sgd.fit(X_train, y_train)\r\n",
        "bp_sgd = mod_gs_sgd.best_params_\r\n",
        "bp_sgd"
      ],
      "execution_count": 28,
      "outputs": [
        {
          "output_type": "stream",
          "text": [
            "Fitting 3 folds for each of 17280 candidates, totalling 51840 fits\n"
          ],
          "name": "stdout"
        },
        {
          "output_type": "stream",
          "text": [
            "[Parallel(n_jobs=-1)]: Using backend LokyBackend with 2 concurrent workers.\n",
            "[Parallel(n_jobs=-1)]: Done 956 tasks      | elapsed:    4.1s\n",
            "[Parallel(n_jobs=-1)]: Done 5756 tasks      | elapsed:   26.0s\n",
            "[Parallel(n_jobs=-1)]: Done 13756 tasks      | elapsed:  1.0min\n",
            "[Parallel(n_jobs=-1)]: Done 24956 tasks      | elapsed:  1.8min\n",
            "[Parallel(n_jobs=-1)]: Done 39356 tasks      | elapsed:  2.8min\n",
            "[Parallel(n_jobs=-1)]: Done 51840 out of 51840 | elapsed:  3.6min finished\n"
          ],
          "name": "stderr"
        },
        {
          "output_type": "execute_result",
          "data": {
            "text/plain": [
              "{'alpha': 10,\n",
              " 'class_weight': {0: 0.4, 1: 0.6},\n",
              " 'eta0': 10,\n",
              " 'learning_rate': 'adaptive',\n",
              " 'loss': 'perceptron',\n",
              " 'max_iter': 200,\n",
              " 'penalty': 'elasticnet'}"
            ]
          },
          "metadata": {
            "tags": []
          },
          "execution_count": 28
        }
      ]
    },
    {
      "cell_type": "markdown",
      "metadata": {
        "id": "YZ0usyEl8lrE"
      },
      "source": [
        "### *Training with best parameters*"
      ]
    },
    {
      "cell_type": "code",
      "metadata": {
        "colab": {
          "base_uri": "https://localhost:8080/"
        },
        "id": "Io10vD6V2dcz",
        "outputId": "05fcca27-966d-4bc1-e4ea-813bddafe31f"
      },
      "source": [
        "mod_sgd = SGDClassifier(loss=bp_sgd['loss'], penalty=bp_sgd['penalty'], max_iter=bp_sgd['max_iter'], learning_rate=bp_sgd['learning_rate'], eta0=bp_sgd['eta0'],\r\n",
        "                        alpha=bp_sgd['alpha'])\r\n",
        "mod_sgd.fit(X_train, y_train)"
      ],
      "execution_count": 29,
      "outputs": [
        {
          "output_type": "execute_result",
          "data": {
            "text/plain": [
              "SGDClassifier(alpha=10, average=False, class_weight=None, early_stopping=False,\n",
              "              epsilon=0.1, eta0=10, fit_intercept=True, l1_ratio=0.15,\n",
              "              learning_rate='adaptive', loss='perceptron', max_iter=200,\n",
              "              n_iter_no_change=5, n_jobs=None, penalty='elasticnet',\n",
              "              power_t=0.5, random_state=None, shuffle=True, tol=0.001,\n",
              "              validation_fraction=0.1, verbose=0, warm_start=False)"
            ]
          },
          "metadata": {
            "tags": []
          },
          "execution_count": 29
        }
      ]
    },
    {
      "cell_type": "code",
      "metadata": {
        "id": "9qHLmDtvfI05"
      },
      "source": [
        "ypred_sgd = mod_sgd.predict(X_test)"
      ],
      "execution_count": 30,
      "outputs": []
    },
    {
      "cell_type": "code",
      "metadata": {
        "colab": {
          "base_uri": "https://localhost:8080/"
        },
        "id": "KdR1zdjTfTXC",
        "outputId": "c6d46e0a-0b82-4517-cae3-c50c87a264e0"
      },
      "source": [
        "# Metrics for SGD Classifier\r\n",
        "\r\n",
        "rmse_sgd = r(mse(y_test, ypred_sgd))\r\n",
        "print('RMSE SGD:', rmse_sgd)"
      ],
      "execution_count": 31,
      "outputs": [
        {
          "output_type": "stream",
          "text": [
            "RMSE SGD: 0.4527692569068708\n"
          ],
          "name": "stdout"
        }
      ]
    },
    {
      "cell_type": "markdown",
      "metadata": {
        "id": "P2lFHG9okBWW"
      },
      "source": [
        "## **DECISION TREE CLASSIFIER**\r\n",
        "---"
      ]
    },
    {
      "cell_type": "code",
      "metadata": {
        "id": "tK5zLUcYgZwd"
      },
      "source": [
        "from sklearn.tree import DecisionTreeClassifier\r\n",
        "\r\n",
        "dtc = DecisionTreeClassifier(random_state=42)\r\n",
        "\r\n",
        "criterion = ['gini', 'entropy']\r\n",
        "splitter = ['best', 'random']\r\n",
        "max_depth = np.arange(1, 20, 2)\r\n",
        "min_samples_split = np.arange(2, 10)\r\n",
        "min_samples_leaf = np.arange(2, 10)\r\n",
        "max_features = [None, 'auto', 'sqrt', 'log2']\r\n",
        "\r\n",
        "dtc_params = dict(criterion = criterion,\r\n",
        "                  splitter = splitter,\r\n",
        "                  max_depth = max_depth,\r\n",
        "                  min_samples_split = min_samples_split,\r\n",
        "                  min_samples_leaf = min_samples_leaf,\r\n",
        "                  max_features = max_features)"
      ],
      "execution_count": 32,
      "outputs": []
    },
    {
      "cell_type": "markdown",
      "metadata": {
        "id": "OXSehm-KiduQ"
      },
      "source": [
        "### *Finding the best params*"
      ]
    },
    {
      "cell_type": "code",
      "metadata": {
        "colab": {
          "base_uri": "https://localhost:8080/"
        },
        "id": "6bCuSDbZiBaI",
        "outputId": "c4699536-9e42-4f5a-f9d4-0bf442e26a00"
      },
      "source": [
        "mod_gs_dtc = GridSearchCV(estimator = dtc, param_grid = dtc_params, verbose = 1, n_jobs = -1)\r\n",
        "mod_gs_dtc.fit(X_train, y_train)\r\n",
        "bp_dtc = mod_gs_dtc.best_params_\r\n",
        "bp_dtc"
      ],
      "execution_count": 33,
      "outputs": [
        {
          "output_type": "stream",
          "text": [
            "Fitting 5 folds for each of 10240 candidates, totalling 51200 fits\n"
          ],
          "name": "stdout"
        },
        {
          "output_type": "stream",
          "text": [
            "[Parallel(n_jobs=-1)]: Using backend LokyBackend with 2 concurrent workers.\n",
            "[Parallel(n_jobs=-1)]: Done 1660 tasks      | elapsed:    3.7s\n",
            "[Parallel(n_jobs=-1)]: Done 11260 tasks      | elapsed:   26.0s\n",
            "[Parallel(n_jobs=-1)]: Done 27260 tasks      | elapsed:  1.1min\n",
            "[Parallel(n_jobs=-1)]: Done 49660 tasks      | elapsed:  2.0min\n",
            "[Parallel(n_jobs=-1)]: Done 51200 out of 51200 | elapsed:  2.1min finished\n"
          ],
          "name": "stderr"
        },
        {
          "output_type": "execute_result",
          "data": {
            "text/plain": [
              "{'criterion': 'entropy',\n",
              " 'max_depth': 9,\n",
              " 'max_features': None,\n",
              " 'min_samples_leaf': 2,\n",
              " 'min_samples_split': 2,\n",
              " 'splitter': 'best'}"
            ]
          },
          "metadata": {
            "tags": []
          },
          "execution_count": 33
        }
      ]
    },
    {
      "cell_type": "markdown",
      "metadata": {
        "id": "_yWfSjQcsnZY"
      },
      "source": [
        "### *Training with best parameters*"
      ]
    },
    {
      "cell_type": "code",
      "metadata": {
        "id": "yk3gqUmirGG4"
      },
      "source": [
        "mod_dtc = DecisionTreeClassifier(max_depth=bp_dtc['max_depth'], min_samples_leaf=bp_dtc['min_samples_leaf'], criterion=bp_dtc['criterion'],\r\n",
        "                                 max_features=bp_dtc['max_features'], min_samples_split=bp_dtc['min_samples_split'], splitter=bp_dtc['splitter'])\r\n",
        "mod_dtc.fit(X_train, y_train)\r\n",
        "ypred_dtc = mod_dtc.predict(X_test)"
      ],
      "execution_count": 34,
      "outputs": []
    },
    {
      "cell_type": "code",
      "metadata": {
        "colab": {
          "base_uri": "https://localhost:8080/"
        },
        "id": "6Yu-3IhBtAv0",
        "outputId": "f29ff1a4-952f-4652-ca36-b0022a557b4b"
      },
      "source": [
        "# Metrics for Decision Tree Classifier\r\n",
        "\r\n",
        "rmse_dtc = r(mse(y_test, ypred_dtc))\r\n",
        "print('RMSE DTC:', rmse_dtc)"
      ],
      "execution_count": 35,
      "outputs": [
        {
          "output_type": "stream",
          "text": [
            "RMSE DTC: 0.324037034920393\n"
          ],
          "name": "stdout"
        }
      ]
    },
    {
      "cell_type": "markdown",
      "metadata": {
        "id": "lklF5ezHoN0T"
      },
      "source": [
        "## **RIDGE CLASSIFIER**\r\n",
        "---"
      ]
    },
    {
      "cell_type": "code",
      "metadata": {
        "id": "Oj2iIFkZtG5-"
      },
      "source": [
        "from sklearn.linear_model import RidgeClassifier\r\n",
        "\r\n",
        "rid = RidgeClassifier(random_state=42)\r\n",
        "\r\n",
        "alpha = [0.0001, 0.001, 0.01, 0.1, 1, 10, 100, 1000]\r\n",
        "solver = ['auto', 'svd', 'cholesky', 'lsqr', 'sparse_cg', 'sag', 'saga']\r\n",
        "class_weight = ['balanced', None]\r\n",
        "max_iter = np.arange(200, 2000, 200)\r\n",
        "\r\n",
        "rid_params = dict(alpha = alpha,\r\n",
        "                  max_iter = max_iter,\r\n",
        "                  class_weight = class_weight,\r\n",
        "                  solver = solver)"
      ],
      "execution_count": 36,
      "outputs": []
    },
    {
      "cell_type": "markdown",
      "metadata": {
        "id": "vOtYg6xfpT58"
      },
      "source": [
        "### *Finding the best params*"
      ]
    },
    {
      "cell_type": "code",
      "metadata": {
        "colab": {
          "base_uri": "https://localhost:8080/"
        },
        "id": "_Khz9d2ipOqS",
        "outputId": "e71ce558-8499-4d9f-84c5-141649efbb55"
      },
      "source": [
        "mod_gs_rid = GridSearchCV(estimator = rid, param_grid = rid_params, verbose = 1, n_jobs = -1)\r\n",
        "mod_gs_rid.fit(X_train, y_train)\r\n",
        "bp_rid = mod_gs_rid.best_params_\r\n",
        "bp_rid"
      ],
      "execution_count": 37,
      "outputs": [
        {
          "output_type": "stream",
          "text": [
            "Fitting 5 folds for each of 1008 candidates, totalling 5040 fits\n"
          ],
          "name": "stdout"
        },
        {
          "output_type": "stream",
          "text": [
            "[Parallel(n_jobs=-1)]: Using backend LokyBackend with 2 concurrent workers.\n",
            "[Parallel(n_jobs=-1)]: Done 956 tasks      | elapsed:    3.2s\n",
            "[Parallel(n_jobs=-1)]: Done 5040 out of 5040 | elapsed:   16.1s finished\n"
          ],
          "name": "stderr"
        },
        {
          "output_type": "execute_result",
          "data": {
            "text/plain": [
              "{'alpha': 0.0001, 'class_weight': None, 'max_iter': 200, 'solver': 'auto'}"
            ]
          },
          "metadata": {
            "tags": []
          },
          "execution_count": 37
        }
      ]
    },
    {
      "cell_type": "markdown",
      "metadata": {
        "id": "8vN8atqJqAth"
      },
      "source": [
        "### *Training with best parameters*"
      ]
    },
    {
      "cell_type": "code",
      "metadata": {
        "id": "0RNbgWUnpebA"
      },
      "source": [
        "mod_rid = RidgeClassifier(alpha=bp_rid['alpha'], class_weight=bp_rid['class_weight'], max_iter=bp_rid['max_iter'], solver=bp_rid['solver'])\r\n",
        "\r\n",
        "mod_rid.fit(X_train, y_train)\r\n",
        "ypred_rid = mod_rid.predict(X_test)"
      ],
      "execution_count": 38,
      "outputs": []
    },
    {
      "cell_type": "code",
      "metadata": {
        "colab": {
          "base_uri": "https://localhost:8080/"
        },
        "id": "tJ9xHeUrqg33",
        "outputId": "92894595-6958-4bcd-82b0-d46a26b964ec"
      },
      "source": [
        "# Metrics for Ridge Classifier\r\n",
        "\r\n",
        "rmse_rid = r(mse(y_test, ypred_rid))\r\n",
        "print('RMSE RID:', rmse_rid)"
      ],
      "execution_count": 39,
      "outputs": [
        {
          "output_type": "stream",
          "text": [
            "RMSE RID: 0.4636809247747852\n"
          ],
          "name": "stdout"
        }
      ]
    },
    {
      "cell_type": "markdown",
      "metadata": {
        "id": "zaL3p3uSqtLK"
      },
      "source": [
        "## **K-Nearest Neighbors (KNN)**\r\n",
        "---"
      ]
    },
    {
      "cell_type": "code",
      "metadata": {
        "id": "CtlL03fnqni9"
      },
      "source": [
        "from sklearn.neighbors import KNeighborsClassifier\r\n",
        "\r\n",
        "knc = KNeighborsClassifier()\r\n",
        "\r\n",
        "n_neighbors = np.arange(1, 21, 2)\r\n",
        "weights = ['uniform', 'distance']\r\n",
        "algorithm = ['auto', 'ball_tree', 'kd_tree', 'brute']\r\n",
        "leaf_size = np.arange(0, 50, 5)\r\n",
        "metric = ['euclidean', 'manhattan', 'minkowski']\r\n",
        "\r\n",
        "knc_params = dict(n_neighbors = n_neighbors,\r\n",
        "                  weights = weights,\r\n",
        "                  algorithm = algorithm,\r\n",
        "                  leaf_size = leaf_size,\r\n",
        "                  metric = metric)"
      ],
      "execution_count": 40,
      "outputs": []
    },
    {
      "cell_type": "markdown",
      "metadata": {
        "id": "yWTojF8nu7pF"
      },
      "source": [
        "### *Finding the best params*"
      ]
    },
    {
      "cell_type": "code",
      "metadata": {
        "colab": {
          "base_uri": "https://localhost:8080/"
        },
        "id": "fLHtJBRcu3Bf",
        "outputId": "615f8ebc-ed2b-4bee-b1dd-6cb808b71b60"
      },
      "source": [
        "mod_gs_knc = GridSearchCV(estimator = knc, param_grid = knc_params, verbose = 1, n_jobs = -1)\r\n",
        "mod_gs_knc.fit(X_train, y_train)\r\n",
        "bp_knc = mod_gs_knc.best_params_\r\n",
        "bp_knc"
      ],
      "execution_count": 41,
      "outputs": [
        {
          "output_type": "stream",
          "text": [
            "Fitting 5 folds for each of 2400 candidates, totalling 12000 fits\n"
          ],
          "name": "stdout"
        },
        {
          "output_type": "stream",
          "text": [
            "[Parallel(n_jobs=-1)]: Using backend LokyBackend with 2 concurrent workers.\n",
            "[Parallel(n_jobs=-1)]: Done 1660 tasks      | elapsed:    8.2s\n",
            "[Parallel(n_jobs=-1)]: Done 11260 tasks      | elapsed:   54.3s\n",
            "[Parallel(n_jobs=-1)]: Done 12000 out of 12000 | elapsed:   57.9s finished\n"
          ],
          "name": "stderr"
        },
        {
          "output_type": "execute_result",
          "data": {
            "text/plain": [
              "{'algorithm': 'ball_tree',\n",
              " 'leaf_size': 40,\n",
              " 'metric': 'manhattan',\n",
              " 'n_neighbors': 11,\n",
              " 'weights': 'distance'}"
            ]
          },
          "metadata": {
            "tags": []
          },
          "execution_count": 41
        }
      ]
    },
    {
      "cell_type": "markdown",
      "metadata": {
        "id": "_7ctnRumwPs1"
      },
      "source": [
        "### *Training with best params*"
      ]
    },
    {
      "cell_type": "code",
      "metadata": {
        "id": "YWbKG1LHvVR-"
      },
      "source": [
        "mod_knc = KNeighborsClassifier(algorithm=bp_knc['algorithm'], leaf_size=bp_knc['leaf_size'], metric=bp_knc['metric'], n_neighbors=bp_knc['n_neighbors'],\r\n",
        "                          weights=bp_knc['weights'])\r\n",
        "\r\n",
        "mod_knc.fit(X_train, y_train)\r\n",
        "ypred_knc = mod_knc.predict(X_test)"
      ],
      "execution_count": 42,
      "outputs": []
    },
    {
      "cell_type": "code",
      "metadata": {
        "colab": {
          "base_uri": "https://localhost:8080/"
        },
        "id": "ZtOMXvWtwqM0",
        "outputId": "9b31154f-7ae3-4bd5-d726-cd30b12bb958"
      },
      "source": [
        "# Metrics for KNeighbors Classifier\r\n",
        "\r\n",
        "rmse_knc = r(mse(y_test, ypred_knc))\r\n",
        "print('RMSE KNC:', rmse_knc)"
      ],
      "execution_count": 43,
      "outputs": [
        {
          "output_type": "stream",
          "text": [
            "RMSE KNC: 0.33166247903553997\n"
          ],
          "name": "stdout"
        }
      ]
    },
    {
      "cell_type": "markdown",
      "metadata": {
        "id": "14FwPzX7Mbqm"
      },
      "source": [
        "## **RANDOM FOREST**\r\n",
        "---"
      ]
    },
    {
      "cell_type": "code",
      "metadata": {
        "id": "hu4r-ftFMa5D"
      },
      "source": [
        "from sklearn.ensemble import RandomForestClassifier\r\n",
        "\r\n",
        "rfc = RandomForestClassifier(random_state=42)\r\n",
        "\r\n",
        "n_estimators = [2, 4, 8, 16, 32, 64, 100]\r\n",
        "max_features = ['sqrt', 'log2', 'auto']\r\n",
        "criterion = ['gini', 'entropy']\r\n",
        "max_depth = np.arange(1, 16, 2)\r\n",
        "min_samples_split = [0.01, 0.01, 0.1, 1.0]\r\n",
        "min_samples_leaf = [0.01, 0.01, 0.1, 1.0]\r\n",
        "class_weight = ['balanced', 'balanced_subsample']\r\n",
        "\r\n",
        "rfc_params = dict(n_estimators = n_estimators,\r\n",
        "                  max_features = max_features,\r\n",
        "                  criterion = criterion,\r\n",
        "                  max_depth = max_depth,\r\n",
        "                  min_samples_split = min_samples_split,\r\n",
        "                  min_samples_leaf = min_samples_leaf,\r\n",
        "                  class_weight = class_weight)"
      ],
      "execution_count": 44,
      "outputs": []
    },
    {
      "cell_type": "markdown",
      "metadata": {
        "id": "oRCER0CSeAho"
      },
      "source": [
        "### *Finding the best params*"
      ]
    },
    {
      "cell_type": "code",
      "metadata": {
        "colab": {
          "base_uri": "https://localhost:8080/"
        },
        "id": "UuFI8iXzMaxs",
        "outputId": "6f32a254-eecd-4fbc-ae4e-6379ab252867"
      },
      "source": [
        "mod_gs_rfc = GridSearchCV(estimator = rfc, param_grid = rfc_params, verbose = 1, n_jobs = -1)\r\n",
        "mod_gs_rfc.fit(X_train, y_train)\r\n",
        "bp_rfc = mod_gs_rfc.best_params_\r\n",
        "bp_rfc"
      ],
      "execution_count": 45,
      "outputs": [
        {
          "output_type": "stream",
          "text": [
            "Fitting 5 folds for each of 10752 candidates, totalling 53760 fits\n"
          ],
          "name": "stdout"
        },
        {
          "output_type": "stream",
          "text": [
            "[Parallel(n_jobs=-1)]: Using backend LokyBackend with 2 concurrent workers.\n",
            "[Parallel(n_jobs=-1)]: Done 300 tasks      | elapsed:   10.4s\n",
            "[Parallel(n_jobs=-1)]: Done 1500 tasks      | elapsed:   47.0s\n",
            "[Parallel(n_jobs=-1)]: Done 3500 tasks      | elapsed:  1.8min\n",
            "[Parallel(n_jobs=-1)]: Done 6300 tasks      | elapsed:  3.3min\n",
            "[Parallel(n_jobs=-1)]: Done 9900 tasks      | elapsed:  5.2min\n",
            "[Parallel(n_jobs=-1)]: Done 14300 tasks      | elapsed:  7.6min\n",
            "[Parallel(n_jobs=-1)]: Done 19500 tasks      | elapsed: 10.4min\n",
            "[Parallel(n_jobs=-1)]: Done 25500 tasks      | elapsed: 13.8min\n",
            "[Parallel(n_jobs=-1)]: Done 32300 tasks      | elapsed: 18.0min\n",
            "[Parallel(n_jobs=-1)]: Done 39900 tasks      | elapsed: 22.8min\n",
            "[Parallel(n_jobs=-1)]: Done 48300 tasks      | elapsed: 28.3min\n",
            "[Parallel(n_jobs=-1)]: Done 53760 out of 53760 | elapsed: 32.0min finished\n"
          ],
          "name": "stderr"
        },
        {
          "output_type": "execute_result",
          "data": {
            "text/plain": [
              "{'class_weight': 'balanced_subsample',\n",
              " 'criterion': 'entropy',\n",
              " 'max_depth': 7,\n",
              " 'max_features': 'sqrt',\n",
              " 'min_samples_leaf': 0.01,\n",
              " 'min_samples_split': 0.01,\n",
              " 'n_estimators': 16}"
            ]
          },
          "metadata": {
            "tags": []
          },
          "execution_count": 45
        }
      ]
    },
    {
      "cell_type": "markdown",
      "metadata": {
        "id": "SEF20fQnVSuP"
      },
      "source": [
        "### *Training with best params*"
      ]
    },
    {
      "cell_type": "code",
      "metadata": {
        "id": "B8dR2VYyMap6"
      },
      "source": [
        "mod_rfc = RandomForestClassifier(n_estimators=bp_rfc['n_estimators'], max_features=bp_rfc['max_features'], criterion=bp_rfc['criterion'],\r\n",
        "                  max_depth=bp_rfc['max_depth'], min_samples_split=bp_rfc['min_samples_split'], min_samples_leaf=bp_rfc['min_samples_leaf'],\r\n",
        "                  class_weight=bp_rfc['class_weight'])\r\n",
        "\r\n",
        "mod_rfc.fit(X_train, y_train)\r\n",
        "ypred_rfc = mod_rfc.predict(X_test)"
      ],
      "execution_count": 46,
      "outputs": []
    },
    {
      "cell_type": "code",
      "metadata": {
        "colab": {
          "base_uri": "https://localhost:8080/"
        },
        "id": "LPBb2oeEMai1",
        "outputId": "8b6cf085-bae4-4983-be00-89423c94d50d"
      },
      "source": [
        "# Metrics for Random Forest Classifier\r\n",
        "\r\n",
        "rmse_rfc = r(mse(y_test, ypred_rfc))\r\n",
        "print('RMSE RFC:', rmse_rfc)"
      ],
      "execution_count": 47,
      "outputs": [
        {
          "output_type": "stream",
          "text": [
            "RMSE RFC: 0.282842712474619\n"
          ],
          "name": "stdout"
        }
      ]
    },
    {
      "cell_type": "markdown",
      "metadata": {
        "id": "zBFsVovXIGg6"
      },
      "source": [
        "## **ADA-BOOST CLASSIFIER**\r\n",
        "---"
      ]
    },
    {
      "cell_type": "code",
      "metadata": {
        "id": "VyYYjBA1MacD"
      },
      "source": [
        "from sklearn.ensemble import AdaBoostClassifier\r\n",
        "\r\n",
        "abc = AdaBoostClassifier(random_state=42)\r\n",
        "\r\n",
        "algorithm = ['SAMME', 'SAMME.R']\r\n",
        "n_estimators = [10, 50, 100, 200]\r\n",
        "learning_rate = [10, 1, 0.1, 0.01, 0.001]\r\n",
        "\r\n",
        "abc_params = dict(algorithm = algorithm,\r\n",
        "                 n_estimators = n_estimators,\r\n",
        "                 learning_rate = learning_rate)"
      ],
      "execution_count": 50,
      "outputs": []
    },
    {
      "cell_type": "markdown",
      "metadata": {
        "id": "41VHEAK0UL83"
      },
      "source": [
        "### *Finding the best params*"
      ]
    },
    {
      "cell_type": "code",
      "metadata": {
        "colab": {
          "base_uri": "https://localhost:8080/"
        },
        "id": "sQb93w-BMaTB",
        "outputId": "7ab7ae0f-4135-48db-e16a-5fb4540e9d66"
      },
      "source": [
        "mod_gs_abc = GridSearchCV(estimator = abc, param_grid = abc_params, verbose = 1, n_jobs = -1)\r\n",
        "mod_gs_abc.fit(X_train, y_train)\r\n",
        "bp_abc = mod_gs_abc.best_params_\r\n",
        "bp_abc"
      ],
      "execution_count": 51,
      "outputs": [
        {
          "output_type": "stream",
          "text": [
            "Fitting 5 folds for each of 40 candidates, totalling 200 fits\n"
          ],
          "name": "stdout"
        },
        {
          "output_type": "stream",
          "text": [
            "[Parallel(n_jobs=-1)]: Using backend LokyBackend with 2 concurrent workers.\n",
            "[Parallel(n_jobs=-1)]: Done 104 tasks      | elapsed:    8.3s\n",
            "[Parallel(n_jobs=-1)]: Done 200 out of 200 | elapsed:   19.7s finished\n"
          ],
          "name": "stderr"
        },
        {
          "output_type": "execute_result",
          "data": {
            "text/plain": [
              "{'algorithm': 'SAMME', 'learning_rate': 1, 'n_estimators': 100}"
            ]
          },
          "metadata": {
            "tags": []
          },
          "execution_count": 51
        }
      ]
    },
    {
      "cell_type": "markdown",
      "metadata": {
        "id": "RtrX8huCVVSE"
      },
      "source": [
        "### *Training with best params*"
      ]
    },
    {
      "cell_type": "code",
      "metadata": {
        "id": "Sx-i3_iqMZ6-"
      },
      "source": [
        "mod_abc = AdaBoostClassifier(algorithm=bp_abc['algorithm'], n_estimators=bp_abc['n_estimators'], learning_rate=0.1)\r\n",
        "\r\n",
        "mod_abc.fit(X_train, y_train)\r\n",
        "ypred_abc = mod_abc.predict(X_test)"
      ],
      "execution_count": 58,
      "outputs": []
    },
    {
      "cell_type": "code",
      "metadata": {
        "colab": {
          "base_uri": "https://localhost:8080/"
        },
        "id": "o8uPOsEnUxyX",
        "outputId": "feb8aff5-b5a2-4102-8a1c-8fa8629f2f88"
      },
      "source": [
        "# Metrics for Ada Boost Classifier\r\n",
        "\r\n",
        "rmse_abc = r(mse(y_test, ypred_abc))\r\n",
        "print('RMSE ABC:', rmse_abc)"
      ],
      "execution_count": 59,
      "outputs": [
        {
          "output_type": "stream",
          "text": [
            "RMSE ABC: 0.3872983346207417\n"
          ],
          "name": "stdout"
        }
      ]
    },
    {
      "cell_type": "markdown",
      "metadata": {
        "id": "cxl33_RYHEra"
      },
      "source": [
        "## **SUPPORT VECTOR CLASSIFIER**\r\n",
        "---"
      ]
    },
    {
      "cell_type": "markdown",
      "metadata": {
        "id": "56BrjoGIN4TU"
      },
      "source": [
        "#### *This is not working properly on my machine, so I'll skip SVC*"
      ]
    },
    {
      "cell_type": "code",
      "metadata": {
        "id": "3bLa7H0-U6x2"
      },
      "source": [
        "# from sklearn.svm import SVC\r\n",
        "\r\n",
        "# svc = SVC(random_state=42)\r\n",
        "\r\n",
        "# C = [100, 10, 1.0, 0.1, 0.01]\r\n",
        "# kernel = ['linear', 'poly', 'rbf', 'sigmoid']\r\n",
        "# gamma = ['scale', 'auto']\r\n",
        "# # decision_function_shape = ['ovo', 'ovr']\r\n",
        "\r\n",
        "# svc_params = dict(C = C,\r\n",
        "#                   kernel = kernel,\r\n",
        "#                   gamma = gamma)\r\n",
        "#                   # decision_function_shape = decision_function_shape)"
      ],
      "execution_count": 62,
      "outputs": []
    },
    {
      "cell_type": "markdown",
      "metadata": {
        "id": "e9_GqKc6IaVc"
      },
      "source": [
        "### *Finding the best params*"
      ]
    },
    {
      "cell_type": "code",
      "metadata": {
        "id": "wHgozUk9IYXY"
      },
      "source": [
        "# mod_gs_svc = GridSearchCV(estimator = svc, param_grid = svc_params, verbose = 1, n_jobs = -1, cv=3)\r\n",
        "# mod_gs_svc.fit(X_train, y_train)\r\n",
        "# bp_svc = mod_gs_svc.best_params_\r\n",
        "# bp_svc"
      ],
      "execution_count": null,
      "outputs": []
    },
    {
      "cell_type": "markdown",
      "metadata": {
        "id": "0SVjr00gIt_S"
      },
      "source": [
        "### *Training with best params*"
      ]
    },
    {
      "cell_type": "code",
      "metadata": {
        "id": "2NyWV2F1IhZh"
      },
      "source": [
        "# mod_svc = SVC(C=bp_svc['C'], kernel=bp_svc['kernel'], gamma=bp_svc['gamma'])\r\n",
        "# # , decision_funtion_shape=bp_svc['decision_function_shape'])\r\n",
        "\r\n",
        "# mod_svc.fit(X_train, y_train)\r\n",
        "# ypred_svc = mod_svc.predict(X_test)"
      ],
      "execution_count": null,
      "outputs": []
    },
    {
      "cell_type": "code",
      "metadata": {
        "id": "tGmouiTROJFx"
      },
      "source": [
        "# # Metrics for Support Vaector Classifier\r\n",
        "\r\n",
        "# rmse_svc = r(mse(y_test, ypred_svc))\r\n",
        "# print('RMSE SVC:', rmse_svc)"
      ],
      "execution_count": null,
      "outputs": []
    },
    {
      "cell_type": "markdown",
      "metadata": {
        "id": "016QIWsMQ2Gr"
      },
      "source": [
        "## **CATEGORICAL NAIVE BAYES**\r\n",
        "---"
      ]
    },
    {
      "cell_type": "code",
      "metadata": {
        "id": "pSLHtBbyORWh"
      },
      "source": [
        "from sklearn.naive_bayes import CategoricalNB\r\n",
        "\r\n",
        "mod_cnb = CategoricalNB()\r\n",
        "\r\n",
        "mod_cnb.fit(X_train, y_train)\r\n",
        "ypred_cnb = mod_cnb.predict(X_test)"
      ],
      "execution_count": 69,
      "outputs": []
    },
    {
      "cell_type": "code",
      "metadata": {
        "colab": {
          "base_uri": "https://localhost:8080/"
        },
        "id": "AaPQa_dARRJZ",
        "outputId": "7b0d99db-71e8-4a5a-9481-c05391699c9f"
      },
      "source": [
        "# Metrics for Categorical Naive Bayes\r\n",
        "\r\n",
        "rmse_cnb = r(mse(y_test, ypred_cnb))\r\n",
        "print('RMSE CNB:', rmse_cnb)"
      ],
      "execution_count": 70,
      "outputs": [
        {
          "output_type": "stream",
          "text": [
            "RMSE CNB: 0.469041575982343\n"
          ],
          "name": "stdout"
        }
      ]
    },
    {
      "cell_type": "markdown",
      "metadata": {
        "id": "sIMnjY6dRfmx"
      },
      "source": [
        "## Comparing all the RMSE values:"
      ]
    },
    {
      "cell_type": "code",
      "metadata": {
        "colab": {
          "base_uri": "https://localhost:8080/"
        },
        "id": "xOJfx12ARasd",
        "outputId": "0615a794-1d02-4a66-84bc-436932389a6f"
      },
      "source": [
        "print('RMSE ABC:', rmse_abc)\r\n",
        "print('RMSE CNB:', rmse_cnb)\r\n",
        "print('RMSE DTC:', rmse_dtc)\r\n",
        "print('RMSE KNC:', rmse_knc)\r\n",
        "print('RMSE LOG:', rmse_log)\r\n",
        "print('RMSE RFC:', rmse_rfc)\r\n",
        "print('RMSE RID:', rmse_rid)\r\n",
        "print('RMSE SGD:', rmse_sgd)"
      ],
      "execution_count": 71,
      "outputs": [
        {
          "output_type": "stream",
          "text": [
            "RMSE ABC: 0.3872983346207417\n",
            "RMSE CNB: 0.469041575982343\n",
            "RMSE DTC: 0.324037034920393\n",
            "RMSE KNC: 0.33166247903553997\n",
            "RMSE LOG: 0.469041575982343\n",
            "RMSE RFC: 0.282842712474619\n",
            "RMSE RID: 0.4636809247747852\n",
            "RMSE SGD: 0.4527692569068708\n"
          ],
          "name": "stdout"
        }
      ]
    },
    {
      "cell_type": "markdown",
      "metadata": {
        "id": "a6h8UtDWSOP-"
      },
      "source": [
        "### As seen here, the Random Forest has the lowest RMSE value. Hence we will use it for prediction the output."
      ]
    },
    {
      "cell_type": "code",
      "metadata": {
        "id": "1efP1eRUSB0r"
      },
      "source": [
        "# Saving the RFC model\r\n",
        "import pickle\r\n",
        "\r\n",
        "rfc_model = 'rfc_model.sav'\r\n",
        "pickle.dump(mod_rfc, open(rfc_model, 'wb'))"
      ],
      "execution_count": 78,
      "outputs": []
    },
    {
      "cell_type": "markdown",
      "metadata": {
        "id": "lTmhhJqGUrBV"
      },
      "source": [
        "# **TEST DATA**\r\n",
        "---"
      ]
    },
    {
      "cell_type": "code",
      "metadata": {
        "id": "1MJ_AItlU1G9"
      },
      "source": [
        "# Loading the saved RFC model\r\n",
        "rfc_loaded = pickle.load(open(rfc_model, 'rb'))"
      ],
      "execution_count": 80,
      "outputs": []
    },
    {
      "cell_type": "code",
      "metadata": {
        "id": "yymlkbMXStvx"
      },
      "source": [
        "# Testing on the Test Dataset\r\n",
        "test_model = rfc_loaded.fit(X_train, y_train)\r\n",
        "test_ypred = test_model.predict(X_test)"
      ],
      "execution_count": 82,
      "outputs": []
    },
    {
      "cell_type": "code",
      "metadata": {
        "colab": {
          "base_uri": "https://localhost:8080/"
        },
        "id": "TXlEM9B8Tso7",
        "outputId": "5a08f454-6f0f-4b6c-b713-18a5b55e3a77"
      },
      "source": [
        "# Metrics for final output\r\n",
        "\r\n",
        "rmse_output = r(mse(y_test, test_ypred))\r\n",
        "print('RMSE Output:', rmse_output)"
      ],
      "execution_count": 83,
      "outputs": [
        {
          "output_type": "stream",
          "text": [
            "RMSE Output: 0.282842712474619\n"
          ],
          "name": "stdout"
        }
      ]
    },
    {
      "cell_type": "code",
      "metadata": {
        "colab": {
          "base_uri": "https://localhost:8080/"
        },
        "id": "7n5WcubJaHzE",
        "outputId": "f3f321cf-6d98-4156-97a3-6e26cd543caf"
      },
      "source": [
        "# Accuracy score metrics\r\n",
        "from sklearn.metrics import accuracy_score\r\n",
        "\r\n",
        "accuracy_score(y_test, test_ypred)"
      ],
      "execution_count": 101,
      "outputs": [
        {
          "output_type": "execute_result",
          "data": {
            "text/plain": [
              "0.92"
            ]
          },
          "metadata": {
            "tags": []
          },
          "execution_count": 101
        }
      ]
    },
    {
      "cell_type": "markdown",
      "metadata": {
        "id": "2sw5Ek1FkV0M"
      },
      "source": [
        "As we used the best model Random Forest Classifier, we can conclude that ***0.92 accuracy*** and ***RMSE 0.282842*** is the best score we can get by using these models. However note that by tweaking the parameters more can result in different outputs."
      ]
    }
  ]
}